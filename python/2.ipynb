{
 "cells": [
  {
   "cell_type": "code",
   "execution_count": 10,
   "metadata": {},
   "outputs": [
    {
     "data": {
      "text/plain": [
       "array([[ 1.15950139, -0.41691585],\n",
       "       [-0.26531991,  0.90053611],\n",
       "       [ 0.89710767, -0.50871628],\n",
       "       ...,\n",
       "       [-0.93362423,  0.15880281],\n",
       "       [ 1.66378754, -0.26158994],\n",
       "       [ 0.39665018, -0.47335865]])"
      ]
     },
     "execution_count": 10,
     "metadata": {},
     "output_type": "execute_result"
    }
   ],
   "source": [
    "from sklearn.datasets import make_moons\n",
    "from sklearn.cluster import DBSCAN\n",
    "X,y=make_moons(n_samples=1000,noise=0.05)"
   ]
  },
  {
   "cell_type": "code",
   "execution_count": 2,
   "metadata": {},
   "outputs": [
    {
     "data": {
      "text/plain": [
       "GaussianMixture(n_components=3, n_init=10)"
      ]
     },
     "execution_count": 2,
     "metadata": {},
     "output_type": "execute_result"
    }
   ],
   "source": [
    "from sklearn.mixture import GaussianMixture\n",
    "gm=GaussianMixture(n_components=3,n_init=10)\n",
    "gm.fit(X)"
   ]
  },
  {
   "cell_type": "code",
   "execution_count": 9,
   "metadata": {},
   "outputs": [
    {
     "data": {
      "text/plain": [
       "array([[ 1.23569039, -0.40052435],\n",
       "       [ 1.2551819 , -0.40982926],\n",
       "       [ 1.19647202, -0.43508003],\n",
       "       [-1.0293955 , -0.0331678 ],\n",
       "       [-0.21000694,  0.96729568],\n",
       "       [ 1.16736225, -0.51985621],\n",
       "       [ 1.95893638,  0.51641751],\n",
       "       [ 1.86328446,  0.41818958],\n",
       "       [-0.9968067 , -0.05517194],\n",
       "       [ 1.9204518 ,  0.47856751],\n",
       "       [-0.24843856,  0.91124673],\n",
       "       [-0.95584837,  0.02219093],\n",
       "       [ 1.95461231,  0.44394796],\n",
       "       [ 1.98006624,  0.48047695],\n",
       "       [ 1.68353569, -0.40378244],\n",
       "       [ 1.17868309, -0.49560442],\n",
       "       [ 1.20727135, -0.43297131],\n",
       "       [-0.92588844,  0.02265665],\n",
       "       [-1.00962306,  0.00501087],\n",
       "       [-0.23355042,  0.86410995],\n",
       "       [ 1.8988181 ,  0.40202257],\n",
       "       [ 1.98383925,  0.47675666],\n",
       "       [ 2.02357285,  0.49704242],\n",
       "       [ 2.02516587,  0.51279559],\n",
       "       [-0.94591853,  0.01367445],\n",
       "       [-0.92906357, -0.00963307],\n",
       "       [-0.95617349,  0.01896844],\n",
       "       [ 1.09312363, -0.57783062],\n",
       "       [ 1.17018758, -0.53283651],\n",
       "       [-0.89439108,  0.08610418],\n",
       "       [-0.27150094,  0.89429002],\n",
       "       [-0.94796544,  0.01414464],\n",
       "       [ 1.18218153, -0.47760213],\n",
       "       [-0.85231108,  0.71118221],\n",
       "       [-0.21551746,  0.91556333],\n",
       "       [ 1.12632141, -0.55962969],\n",
       "       [ 1.14917317, -0.52814328],\n",
       "       [ 1.1467782 , -0.53353141],\n",
       "       [ 1.93864163,  0.47138424],\n",
       "       [-0.95166884,  0.01614871]])"
      ]
     },
     "execution_count": 9,
     "metadata": {},
     "output_type": "execute_result"
    }
   ],
   "source": [
    "import numpy as np\n",
    "densities = gm.score_samples(X)\n",
    "density_threshold = np.percentile(densities, 4)\n",
    "anomalies = X[densities < density_threshold]\n",
    "anomalies"
   ]
  },
  {
   "cell_type": "markdown",
   "metadata": {},
   "source": []
  }
 ],
 "metadata": {
  "interpreter": {
   "hash": "48e0c348c6b3baff112efb30c93e0f5ec651f3a51ee49044258a6bb922a929e4"
  },
  "kernelspec": {
   "display_name": "Python 3.8.12 64-bit ('base': conda)",
   "name": "python3"
  },
  "language_info": {
   "codemirror_mode": {
    "name": "ipython",
    "version": 3
   },
   "file_extension": ".py",
   "mimetype": "text/x-python",
   "name": "python",
   "nbconvert_exporter": "python",
   "pygments_lexer": "ipython3",
   "version": "3.8.12"
  },
  "orig_nbformat": 4
 },
 "nbformat": 4,
 "nbformat_minor": 2
}
