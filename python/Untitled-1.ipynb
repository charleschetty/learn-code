{
 "cells": [
  {
   "cell_type": "code",
   "execution_count": 54,
   "metadata": {},
   "outputs": [],
   "source": [
    "import numpy as np\n",
    "import pandas as pd\n",
    "dataset=pd.read_csv('/home/charles/Downloads/ml_exercise-master/data/3.0.csv')\n"
   ]
  },
  {
   "cell_type": "code",
   "execution_count": null,
   "metadata": {},
   "outputs": [],
   "source": []
  },
  {
   "cell_type": "code",
   "execution_count": 55,
   "metadata": {},
   "outputs": [],
   "source": [
    "traindtata=dataset.copy()\n",
    "X=traindtata.drop(\"好瓜\",axis=1).drop(\"编号\",axis=1)\n",
    "y=traindtata[\"好瓜\"]"
   ]
  },
  {
   "cell_type": "code",
   "execution_count": 56,
   "metadata": {},
   "outputs": [
    {
     "data": {
      "text/plain": [
       "(    色泽  根蒂  敲声  纹理  脐部  触感     密度    含糖率\n",
       " 0   青绿  蜷缩  浊响  清晰  凹陷  硬滑  0.697  0.460\n",
       " 1   乌黑  蜷缩  沉闷  清晰  凹陷  硬滑  0.774  0.376\n",
       " 2   乌黑  蜷缩  浊响  清晰  凹陷  硬滑  0.634  0.264\n",
       " 3   青绿  蜷缩  沉闷  清晰  凹陷  硬滑  0.608  0.318\n",
       " 4   浅白  蜷缩  浊响  清晰  凹陷  硬滑  0.556  0.215\n",
       " 5   青绿  稍蜷  浊响  清晰  稍凹  软粘  0.403  0.237\n",
       " 6   乌黑  稍蜷  浊响  稍糊  稍凹  软粘  0.481  0.149\n",
       " 7   乌黑  稍蜷  浊响  清晰  稍凹  硬滑  0.437  0.211\n",
       " 8   乌黑  稍蜷  沉闷  稍糊  稍凹  硬滑  0.666  0.091\n",
       " 9   青绿  硬挺  清脆  清晰  平坦  软粘  0.243  0.267\n",
       " 10  浅白  硬挺  清脆  模糊  平坦  硬滑  0.245  0.057\n",
       " 11  浅白  蜷缩  浊响  模糊  平坦  软粘  0.343  0.099\n",
       " 12  青绿  稍蜷  浊响  稍糊  凹陷  硬滑  0.639  0.161\n",
       " 13  浅白  稍蜷  沉闷  稍糊  凹陷  硬滑  0.657  0.198\n",
       " 14  乌黑  稍蜷  浊响  清晰  稍凹  软粘  0.360  0.370\n",
       " 15  浅白  蜷缩  浊响  模糊  平坦  硬滑  0.593  0.042\n",
       " 16  青绿  蜷缩  沉闷  稍糊  稍凹  硬滑  0.719  0.103,\n",
       " 0     是\n",
       " 1     是\n",
       " 2     是\n",
       " 3     是\n",
       " 4     是\n",
       " 5     是\n",
       " 6     是\n",
       " 7     是\n",
       " 8     否\n",
       " 9     否\n",
       " 10    否\n",
       " 11    否\n",
       " 12    否\n",
       " 13    否\n",
       " 14    否\n",
       " 15    否\n",
       " 16    否\n",
       " Name: 好瓜, dtype: object)"
      ]
     },
     "execution_count": 56,
     "metadata": {},
     "output_type": "execute_result"
    }
   ],
   "source": [
    "X,y"
   ]
  },
  {
   "cell_type": "code",
   "execution_count": 57,
   "metadata": {},
   "outputs": [],
   "source": [
    "from sklearn.preprocessing import OrdinalEncoder\n",
    "ordinal_encoder=OrdinalEncoder()\n",
    "ordinal_encoder.fit(X)\n",
    "X=ordinal_encoder.transform(X)"
   ]
  },
  {
   "cell_type": "code",
   "execution_count": 58,
   "metadata": {},
   "outputs": [],
   "source": [
    "from sklearn.tree import DecisionTreeClassifier\n",
    "def Ent(p):\n",
    "    return np.sum(-p*np.log(p))\n",
    "clf = DecisionTreeClassifier(max_depth=2,criterion=\"entropy\")\n",
    "clf = clf.fit(X, y)"
   ]
  },
  {
   "cell_type": "code",
   "execution_count": 59,
   "metadata": {},
   "outputs": [
    {
     "data": {
      "text/plain": [
       "array(['是'], dtype=object)"
      ]
     },
     "execution_count": 59,
     "metadata": {},
     "output_type": "execute_result"
    }
   ],
   "source": [
    "pre=[[\"青绿\",\"蜷缩\",\"浊响\",\"清晰\",\"凹陷\",\"硬滑\",0.697,0.460]]\n",
    "pre=ordinal_encoder.transform(pre)\n",
    "clf.predict(pre)\n"
   ]
  },
  {
   "cell_type": "code",
   "execution_count": 60,
   "metadata": {},
   "outputs": [
    {
     "data": {
      "text/plain": [
       "array([[ 2.,  2.,  1.,  1.,  0.,  0., 14., 16.],\n",
       "       [ 0.,  2.,  0.,  1.,  0.,  0., 16., 15.],\n",
       "       [ 0.,  2.,  1.,  1.,  0.,  0., 10., 11.],\n",
       "       [ 2.,  2.,  0.,  1.,  0.,  0.,  9., 13.],\n",
       "       [ 1.,  2.,  1.,  1.,  0.,  0.,  7.,  9.],\n",
       "       [ 2.,  1.,  1.,  1.,  2.,  1.,  4., 10.],\n",
       "       [ 0.,  1.,  1.,  2.,  2.,  1.,  6.,  5.],\n",
       "       [ 0.,  1.,  1.,  1.,  2.,  0.,  5.,  8.],\n",
       "       [ 0.,  1.,  0.,  2.,  2.,  0., 13.,  2.],\n",
       "       [ 2.,  0.,  2.,  1.,  1.,  1.,  0., 12.],\n",
       "       [ 1.,  0.,  2.,  0.,  1.,  0.,  1.,  1.],\n",
       "       [ 1.,  2.,  1.,  0.,  1.,  1.,  2.,  3.],\n",
       "       [ 2.,  1.,  1.,  2.,  0.,  0., 11.,  6.],\n",
       "       [ 1.,  1.,  0.,  2.,  0.,  0., 12.,  7.],\n",
       "       [ 0.,  1.,  1.,  1.,  2.,  1.,  3., 14.],\n",
       "       [ 1.,  2.,  1.,  0.,  1.,  0.,  8.,  0.],\n",
       "       [ 2.,  2.,  0.,  2.,  2.,  0., 15.,  4.]])"
      ]
     },
     "execution_count": 60,
     "metadata": {},
     "output_type": "execute_result"
    }
   ],
   "source": [
    "clf.predict_proba(pre)\n",
    "X"
   ]
  },
  {
   "cell_type": "code",
   "execution_count": 61,
   "metadata": {},
   "outputs": [
    {
     "data": {
      "image/svg+xml": "<?xml version=\"1.0\" encoding=\"UTF-8\" standalone=\"no\"?>\n<!DOCTYPE svg PUBLIC \"-//W3C//DTD SVG 1.1//EN\"\n \"http://www.w3.org/Graphics/SVG/1.1/DTD/svg11.dtd\">\n<!-- Generated by graphviz version 2.49.1 (0)\n -->\n<!-- Title: Tree Pages: 1 -->\n<svg width=\"331pt\" height=\"314pt\"\n viewBox=\"0.00 0.00 331.00 314.00\" xmlns=\"http://www.w3.org/2000/svg\" xmlns:xlink=\"http://www.w3.org/1999/xlink\">\n<g id=\"graph0\" class=\"graph\" transform=\"scale(1 1) rotate(0) translate(4 310)\">\n<title>Tree</title>\n<polygon fill=\"white\" stroke=\"transparent\" points=\"-4,4 -4,-310 327,-310 327,4 -4,4\"/>\n<!-- 0 -->\n<g id=\"node1\" class=\"node\">\n<title>0</title>\n<path fill=\"#fcf1e9\" stroke=\"black\" d=\"M180,-306C180,-306 73,-306 73,-306 67,-306 61,-300 61,-294 61,-294 61,-235 61,-235 61,-229 67,-223 73,-223 73,-223 180,-223 180,-223 186,-223 192,-229 192,-235 192,-235 192,-294 192,-294 192,-300 186,-306 180,-306\"/>\n<text text-anchor=\"start\" x=\"83\" y=\"-290.8\" font-family=\"Helvetica,sans-Serif\" font-size=\"14.00\">含糖率 ≤ 4.5</text>\n<text text-anchor=\"start\" x=\"69\" y=\"-275.8\" font-family=\"Helvetica,sans-Serif\" font-size=\"14.00\">entropy = 0.998</text>\n<text text-anchor=\"start\" x=\"78\" y=\"-260.8\" font-family=\"Helvetica,sans-Serif\" font-size=\"14.00\">samples = 17</text>\n<text text-anchor=\"start\" x=\"78\" y=\"-245.8\" font-family=\"Helvetica,sans-Serif\" font-size=\"14.00\">value = [9, 8]</text>\n<text text-anchor=\"start\" x=\"84\" y=\"-230.8\" font-family=\"Helvetica,sans-Serif\" font-size=\"14.00\">class = 好瓜</text>\n</g>\n<!-- 1 -->\n<g id=\"node2\" class=\"node\">\n<title>1</title>\n<path fill=\"#e58139\" stroke=\"black\" d=\"M101,-179.5C101,-179.5 12,-179.5 12,-179.5 6,-179.5 0,-173.5 0,-167.5 0,-167.5 0,-123.5 0,-123.5 0,-117.5 6,-111.5 12,-111.5 12,-111.5 101,-111.5 101,-111.5 107,-111.5 113,-117.5 113,-123.5 113,-123.5 113,-167.5 113,-167.5 113,-173.5 107,-179.5 101,-179.5\"/>\n<text text-anchor=\"start\" x=\"8\" y=\"-164.3\" font-family=\"Helvetica,sans-Serif\" font-size=\"14.00\">entropy = 0.0</text>\n<text text-anchor=\"start\" x=\"12.5\" y=\"-149.3\" font-family=\"Helvetica,sans-Serif\" font-size=\"14.00\">samples = 5</text>\n<text text-anchor=\"start\" x=\"8\" y=\"-134.3\" font-family=\"Helvetica,sans-Serif\" font-size=\"14.00\">value = [5, 0]</text>\n<text text-anchor=\"start\" x=\"14\" y=\"-119.3\" font-family=\"Helvetica,sans-Serif\" font-size=\"14.00\">class = 好瓜</text>\n</g>\n<!-- 0&#45;&gt;1 -->\n<g id=\"edge1\" class=\"edge\">\n<title>0&#45;&gt;1</title>\n<path fill=\"none\" stroke=\"black\" d=\"M102.21,-222.91C95.55,-211.76 88.3,-199.66 81.59,-188.44\"/>\n<polygon fill=\"black\" stroke=\"black\" points=\"84.48,-186.45 76.34,-179.67 78.47,-190.05 84.48,-186.45\"/>\n<text text-anchor=\"middle\" x=\"70.25\" y=\"-200.21\" font-family=\"Helvetica,sans-Serif\" font-size=\"14.00\">True</text>\n</g>\n<!-- 2 -->\n<g id=\"node3\" class=\"node\">\n<title>2</title>\n<path fill=\"#9ccef2\" stroke=\"black\" d=\"M250,-187C250,-187 143,-187 143,-187 137,-187 131,-181 131,-175 131,-175 131,-116 131,-116 131,-110 137,-104 143,-104 143,-104 250,-104 250,-104 256,-104 262,-110 262,-116 262,-116 262,-175 262,-175 262,-181 256,-187 250,-187\"/>\n<text text-anchor=\"start\" x=\"160\" y=\"-171.8\" font-family=\"Helvetica,sans-Serif\" font-size=\"14.00\">根蒂 ≤ 1.5</text>\n<text text-anchor=\"start\" x=\"139\" y=\"-156.8\" font-family=\"Helvetica,sans-Serif\" font-size=\"14.00\">entropy = 0.918</text>\n<text text-anchor=\"start\" x=\"148\" y=\"-141.8\" font-family=\"Helvetica,sans-Serif\" font-size=\"14.00\">samples = 12</text>\n<text text-anchor=\"start\" x=\"148\" y=\"-126.8\" font-family=\"Helvetica,sans-Serif\" font-size=\"14.00\">value = [4, 8]</text>\n<text text-anchor=\"start\" x=\"154\" y=\"-111.8\" font-family=\"Helvetica,sans-Serif\" font-size=\"14.00\">class = 坏瓜</text>\n</g>\n<!-- 0&#45;&gt;2 -->\n<g id=\"edge2\" class=\"edge\">\n<title>0&#45;&gt;2</title>\n<path fill=\"none\" stroke=\"black\" d=\"M150.79,-222.91C156.05,-214.1 161.68,-204.7 167.12,-195.61\"/>\n<polygon fill=\"black\" stroke=\"black\" points=\"170.13,-197.4 172.26,-187.02 164.12,-193.81 170.13,-197.4\"/>\n<text text-anchor=\"middle\" x=\"178.35\" y=\"-207.57\" font-family=\"Helvetica,sans-Serif\" font-size=\"14.00\">False</text>\n</g>\n<!-- 3 -->\n<g id=\"node4\" class=\"node\">\n<title>3</title>\n<path fill=\"#f8e0ce\" stroke=\"black\" d=\"M180,-68C180,-68 73,-68 73,-68 67,-68 61,-62 61,-56 61,-56 61,-12 61,-12 61,-6 67,0 73,0 73,0 180,0 180,0 186,0 192,-6 192,-12 192,-12 192,-56 192,-56 192,-62 186,-68 180,-68\"/>\n<text text-anchor=\"start\" x=\"69\" y=\"-52.8\" font-family=\"Helvetica,sans-Serif\" font-size=\"14.00\">entropy = 0.985</text>\n<text text-anchor=\"start\" x=\"82.5\" y=\"-37.8\" font-family=\"Helvetica,sans-Serif\" font-size=\"14.00\">samples = 7</text>\n<text text-anchor=\"start\" x=\"78\" y=\"-22.8\" font-family=\"Helvetica,sans-Serif\" font-size=\"14.00\">value = [4, 3]</text>\n<text text-anchor=\"start\" x=\"84\" y=\"-7.8\" font-family=\"Helvetica,sans-Serif\" font-size=\"14.00\">class = 好瓜</text>\n</g>\n<!-- 2&#45;&gt;3 -->\n<g id=\"edge3\" class=\"edge\">\n<title>2&#45;&gt;3</title>\n<path fill=\"none\" stroke=\"black\" d=\"M170.43,-103.73C164.84,-94.97 158.91,-85.7 153.29,-76.91\"/>\n<polygon fill=\"black\" stroke=\"black\" points=\"156.12,-74.84 147.79,-68.3 150.22,-78.61 156.12,-74.84\"/>\n</g>\n<!-- 4 -->\n<g id=\"node5\" class=\"node\">\n<title>4</title>\n<path fill=\"#399de5\" stroke=\"black\" d=\"M311,-68C311,-68 222,-68 222,-68 216,-68 210,-62 210,-56 210,-56 210,-12 210,-12 210,-6 216,0 222,0 222,0 311,0 311,0 317,0 323,-6 323,-12 323,-12 323,-56 323,-56 323,-62 317,-68 311,-68\"/>\n<text text-anchor=\"start\" x=\"218\" y=\"-52.8\" font-family=\"Helvetica,sans-Serif\" font-size=\"14.00\">entropy = 0.0</text>\n<text text-anchor=\"start\" x=\"222.5\" y=\"-37.8\" font-family=\"Helvetica,sans-Serif\" font-size=\"14.00\">samples = 5</text>\n<text text-anchor=\"start\" x=\"218\" y=\"-22.8\" font-family=\"Helvetica,sans-Serif\" font-size=\"14.00\">value = [0, 5]</text>\n<text text-anchor=\"start\" x=\"224\" y=\"-7.8\" font-family=\"Helvetica,sans-Serif\" font-size=\"14.00\">class = 坏瓜</text>\n</g>\n<!-- 2&#45;&gt;4 -->\n<g id=\"edge4\" class=\"edge\">\n<title>2&#45;&gt;4</title>\n<path fill=\"none\" stroke=\"black\" d=\"M222.57,-103.73C228.16,-94.97 234.09,-85.7 239.71,-76.91\"/>\n<polygon fill=\"black\" stroke=\"black\" points=\"242.78,-78.61 245.21,-68.3 236.88,-74.84 242.78,-78.61\"/>\n</g>\n</g>\n</svg>\n",
      "text/plain": [
       "<graphviz.files.Source at 0x7f7eca608490>"
      ]
     },
     "execution_count": 61,
     "metadata": {},
     "output_type": "execute_result"
    }
   ],
   "source": [
    "datafeather= [\"色泽\", \"根蒂\", \"敲声\", \"纹理\", \"脐部\",\"触感\", \"密度\", \"含糖率\"]\n",
    "from sklearn import tree\n",
    "import graphviz \n",
    "dot_data = tree.export_graphviz(clf, out_file=None, \n",
    "                     feature_names=datafeather,  \n",
    "                     class_names=[\"好瓜\",\"坏瓜\"],  \n",
    "                     filled=True, rounded=True,  \n",
    "                     special_characters=True)  \n",
    "graph = graphviz.Source(dot_data)  \n",
    "graph"
   ]
  },
  {
   "cell_type": "code",
   "execution_count": 2,
   "metadata": {},
   "outputs": [],
   "source": [
    "from sklearn.datasets import load_iris\n",
    "from sklearn.tree import DecisionTreeClassifier\n",
    "\n",
    "iris=load_iris()"
   ]
  },
  {
   "cell_type": "code",
   "execution_count": 3,
   "metadata": {},
   "outputs": [
    {
     "data": {
      "text/plain": [
       "DecisionTreeClassifier()"
      ]
     },
     "execution_count": 3,
     "metadata": {},
     "output_type": "execute_result"
    }
   ],
   "source": [
    "X, y = iris.data, iris.target\n",
    "dec=DecisionTreeClassifier()\n",
    "dec.fit(X,y)"
   ]
  },
  {
   "cell_type": "code",
   "execution_count": 6,
   "metadata": {},
   "outputs": [
    {
     "data": {
      "text/plain": [
       "[Text(167.4, 199.32, 'X[3] <= 0.8\\ngini = 0.667\\nsamples = 150\\nvalue = [50, 50, 50]'),\n",
       " Text(141.64615384615385, 163.07999999999998, 'gini = 0.0\\nsamples = 50\\nvalue = [50, 0, 0]'),\n",
       " Text(193.15384615384616, 163.07999999999998, 'X[3] <= 1.75\\ngini = 0.5\\nsamples = 100\\nvalue = [0, 50, 50]'),\n",
       " Text(103.01538461538462, 126.83999999999999, 'X[2] <= 4.95\\ngini = 0.168\\nsamples = 54\\nvalue = [0, 49, 5]'),\n",
       " Text(51.50769230769231, 90.6, 'X[3] <= 1.65\\ngini = 0.041\\nsamples = 48\\nvalue = [0, 47, 1]'),\n",
       " Text(25.753846153846155, 54.359999999999985, 'gini = 0.0\\nsamples = 47\\nvalue = [0, 47, 0]'),\n",
       " Text(77.26153846153846, 54.359999999999985, 'gini = 0.0\\nsamples = 1\\nvalue = [0, 0, 1]'),\n",
       " Text(154.52307692307693, 90.6, 'X[3] <= 1.55\\ngini = 0.444\\nsamples = 6\\nvalue = [0, 2, 4]'),\n",
       " Text(128.76923076923077, 54.359999999999985, 'gini = 0.0\\nsamples = 3\\nvalue = [0, 0, 3]'),\n",
       " Text(180.27692307692308, 54.359999999999985, 'X[2] <= 5.45\\ngini = 0.444\\nsamples = 3\\nvalue = [0, 2, 1]'),\n",
       " Text(154.52307692307693, 18.119999999999976, 'gini = 0.0\\nsamples = 2\\nvalue = [0, 2, 0]'),\n",
       " Text(206.03076923076924, 18.119999999999976, 'gini = 0.0\\nsamples = 1\\nvalue = [0, 0, 1]'),\n",
       " Text(283.2923076923077, 126.83999999999999, 'X[2] <= 4.85\\ngini = 0.043\\nsamples = 46\\nvalue = [0, 1, 45]'),\n",
       " Text(257.53846153846155, 90.6, 'X[0] <= 5.95\\ngini = 0.444\\nsamples = 3\\nvalue = [0, 1, 2]'),\n",
       " Text(231.7846153846154, 54.359999999999985, 'gini = 0.0\\nsamples = 1\\nvalue = [0, 1, 0]'),\n",
       " Text(283.2923076923077, 54.359999999999985, 'gini = 0.0\\nsamples = 2\\nvalue = [0, 0, 2]'),\n",
       " Text(309.04615384615386, 90.6, 'gini = 0.0\\nsamples = 43\\nvalue = [0, 0, 43]')]"
      ]
     },
     "execution_count": 6,
     "metadata": {},
     "output_type": "execute_result"
    },
    {
     "data": {
      "image/png": "[encoded data removed]",
      "text/plain": [
       "<Figure size 432x288 with 1 Axes>"
      ]
     },
     "metadata": {
      "needs_background": "light"
     },
     "output_type": "display_data"
    }
   ],
   "source": [
    "from sklearn import tree\n",
    "import graphviz \n",
    "dot_data = tree.export_graphviz(dec, out_file=None, \n",
    "                     feature_names=iris.feature_names,  \n",
    "                     class_names=iris.target_names,  \n",
    "                     filled=True, rounded=True,  \n",
    "                     special_characters=True)  \n",
    "graph = graphviz.Source(dot_data)  \n",
    "# graph\n",
    "# tree.plot_tree(dec)"
   ]
  }
 ],
 "metadata": {
  "interpreter": {
   "hash": "48e0c348c6b3baff112efb30c93e0f5ec651f3a51ee49044258a6bb922a929e4"
  },
  "kernelspec": {
   "display_name": "Python 3.8.12 64-bit ('base': conda)",
   "name": "python3"
  },
  "language_info": {
   "codemirror_mode": {
    "name": "ipython",
    "version": 3
   },
   "file_extension": ".py",
   "mimetype": "text/x-python",
   "name": "python",
   "nbconvert_exporter": "python",
   "pygments_lexer": "ipython3",
   "version": "3.8.12"
  },
  "orig_nbformat": 4
 },
 "nbformat": 4,
 "nbformat_minor": 2
}
