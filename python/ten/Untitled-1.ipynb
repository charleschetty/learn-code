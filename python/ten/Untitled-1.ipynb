{
    "cells": [
        {
            "cell_type": "markdown",
            "metadata": {},
            "source": [
                "import tensorflow as tf\n",
                "from  tensorflow import keras\n",
                "fashion_mnist = keras.datasets.fashion_mnist\n",
                "(X_train_full, y_train_full), (X_test, y_test) = fashion_mnist.load_data()\n"
            ]
        },
        {
            "cell_type": "code",
            "execution_count": 1,
            "metadata": {},
            "outputs": [
                {
                    "name": "stderr",
                    "output_type": "stream",
                    "text": [
                        "2021-10-22 19:49:28.534250: W tensorflow/stream_executor/platform/default/dso_loader.cc:64] Could not load dynamic library 'libcudart.so.11.0'; dlerror: libcudart.so.11.0: cannot open shared object file: No such file or directory\n",
                        "2021-10-22 19:49:28.534287: I tensorflow/stream_executor/cuda/cudart_stub.cc:29] Ignore above cudart dlerror if you do not have a GPU set up on your machine.\n"
                    ]
                }
            ],
            "source": [
                "import tensorflow.keras as keras\n",
                "fashion_mnist = keras.datasets.fashion_mnist\n",
                "(X_train_full, y_train_full), (X_test, y_test) = fashion_mnist.load_data()\n",
                "X_valid, X_train = X_train_full[:5000] / 255.0,X_train_full[5000:] / 255.0\n",
                "y_valid, y_train = y_train_full[:5000], y_train_full[5000:]"
            ]
        },
        {
            "cell_type": "code",
            "execution_count": 2,
            "metadata": {},
            "outputs": [],
            "source": [
                "class_names=[\"T-shirt/top\", \"Trouser\", \"Pullover\", \"Dress\", \"Coat\",\n",
                "               \"Sandal\", \"Shirt\", \"Sneaker\", \"Bag\", \"Ankle boot\"]\n"
            ]
        },
        {
            "cell_type": "code",
            "execution_count": 8,
            "metadata": {},
            "outputs": [],
            "source": [
                "model=keras.models.Sequential()\n",
                "model.add(keras.layers.Flatten(input_shape=[28,28]))\n",
                "model.add(keras.layers.BatchNormalization())\n",
                "model.add(keras.layers.Dense(300,activation=\"selu\",kernel_initializer=\"lecun_normal\",kernel_regularizer=keras.regularizers.l2(0.01)))\n",
                "model.add(keras.layers.BatchNormalization())\n",
                "model.add(keras.layers.Dense(100,activation=\"selu\",kernel_initializer=\"lecun_normal\",kernel_regularizer=keras.regularizers.l2(0.01)))\n",
                "model.add(keras.layers.BatchNormalization())\n",
                "# model.add(keras.layers.Dense(10,activation=\"relu\",kernel_initializer=\"he_normal\"))\n",
                "# model.summary()\n",
                "model.add(keras.layers.Dense(10,activation=\"softmax\"))\n",
                "earlystop=keras.callbacks.EarlyStopping(patience=10,restore_best_weights=True)\n",
                "checkp=keras.callbacks.ModelCheckpoint(\"mymodel.h5\")"
            ]
        },
        {
            "cell_type": "code",
            "execution_count": 9,
            "metadata": {},
            "outputs": [
                {
                    "name": "stdout",
                    "output_type": "stream",
                    "text": [
                        "Model: \"sequential_1\"\n",
                        "_________________________________________________________________\n",
                        "Layer (type)                 Output Shape              Param #   \n",
                        "=================================================================\n",
                        "flatten_1 (Flatten)          (None, 784)               0         \n",
                        "_________________________________________________________________\n",
                        "batch_normalization_3 (Batch (None, 784)               3136      \n",
                        "_________________________________________________________________\n",
                        "dense_3 (Dense)              (None, 300)               235500    \n",
                        "_________________________________________________________________\n",
                        "batch_normalization_4 (Batch (None, 300)               1200      \n",
                        "_________________________________________________________________\n",
                        "dense_4 (Dense)              (None, 100)               30100     \n",
                        "_________________________________________________________________\n",
                        "batch_normalization_5 (Batch (None, 100)               400       \n",
                        "_________________________________________________________________\n",
                        "dense_5 (Dense)              (None, 10)                1010      \n",
                        "=================================================================\n",
                        "Total params: 271,346\n",
                        "Trainable params: 268,978\n",
                        "Non-trainable params: 2,368\n",
                        "_________________________________________________________________\n"
                    ]
                }
            ],
            "source": [
                "model.summary()"
            ]
        },
        {
            "cell_type": "code",
            "execution_count": 10,
            "metadata": {},
            "outputs": [
                {
                    "name": "stderr",
                    "output_type": "stream",
                    "text": [
                        "/home/ubuntu/.local/lib/python3.8/site-packages/keras/optimizer_v2/optimizer_v2.py:355: UserWarning: The `lr` argument is deprecated, use `learning_rate` instead.\n",
                        "  warnings.warn(\n"
                    ]
                }
            ],
            "source": [
                "opter=keras.optimizers.SGD(clipvalue=100,lr=1e-4)\n",
                "model.compile(loss=\"sparse_categorical_crossentropy\",optimizer=opter,metrics=\"accuracy\")"
            ]
        },
        {
            "cell_type": "code",
            "execution_count": 11,
            "metadata": {},
            "outputs": [
                {
                    "name": "stderr",
                    "output_type": "stream",
                    "text": [
                        "2021-10-22 20:06:33.456941: W tensorflow/core/framework/cpu_allocator_impl.cc:80] Allocation of 172480000 exceeds 10% of free system memory.\n"
                    ]
                },
                {
                    "name": "stdout",
                    "output_type": "stream",
                    "text": [
                        "Epoch 1/30\n",
                        "1719/1719 [==============================] - 9s 5ms/step - loss: 5.2800 - accuracy: 0.5694 - val_loss: 4.8597 - val_accuracy: 0.7064\n",
                        "Epoch 2/30\n",
                        "1719/1719 [==============================] - 8s 5ms/step - loss: 4.7965 - accuracy: 0.7205 - val_loss: 4.6728 - val_accuracy: 0.7598\n",
                        "Epoch 3/30\n",
                        "1719/1719 [==============================] - 8s 5ms/step - loss: 4.6697 - accuracy: 0.7505 - val_loss: 4.5785 - val_accuracy: 0.7800\n",
                        "Epoch 4/30\n",
                        "1719/1719 [==============================] - 8s 5ms/step - loss: 4.5912 - accuracy: 0.7657 - val_loss: 4.5090 - val_accuracy: 0.7950\n",
                        "Epoch 5/30\n",
                        "1719/1719 [==============================] - 8s 5ms/step - loss: 4.5269 - accuracy: 0.7795 - val_loss: 4.4535 - val_accuracy: 0.8012\n",
                        "Epoch 6/30\n",
                        "1719/1719 [==============================] - 8s 5ms/step - loss: 4.4770 - accuracy: 0.7850 - val_loss: 4.4071 - val_accuracy: 0.8092\n",
                        "Epoch 7/30\n",
                        "1719/1719 [==============================] - 8s 5ms/step - loss: 4.4330 - accuracy: 0.7903 - val_loss: 4.3643 - val_accuracy: 0.8116\n",
                        "Epoch 8/30\n",
                        "1719/1719 [==============================] - 8s 5ms/step - loss: 4.3898 - accuracy: 0.7963 - val_loss: 4.3252 - val_accuracy: 0.8182\n",
                        "Epoch 9/30\n",
                        "1719/1719 [==============================] - 8s 5ms/step - loss: 4.3517 - accuracy: 0.7998 - val_loss: 4.2880 - val_accuracy: 0.8208\n",
                        "Epoch 10/30\n",
                        "1719/1719 [==============================] - 8s 5ms/step - loss: 4.3131 - accuracy: 0.8030 - val_loss: 4.2529 - val_accuracy: 0.8222\n",
                        "Epoch 11/30\n",
                        "1719/1719 [==============================] - 8s 5ms/step - loss: 4.2797 - accuracy: 0.8068 - val_loss: 4.2201 - val_accuracy: 0.8250\n",
                        "Epoch 12/30\n",
                        "1719/1719 [==============================] - 8s 5ms/step - loss: 4.2459 - accuracy: 0.8086 - val_loss: 4.1851 - val_accuracy: 0.8306\n",
                        "Epoch 13/30\n",
                        "1719/1719 [==============================] - 8s 5ms/step - loss: 4.2146 - accuracy: 0.8125 - val_loss: 4.1539 - val_accuracy: 0.8330\n",
                        "Epoch 14/30\n",
                        "1719/1719 [==============================] - 8s 5ms/step - loss: 4.1817 - accuracy: 0.8124 - val_loss: 4.1236 - val_accuracy: 0.8316\n",
                        "Epoch 15/30\n",
                        "1719/1719 [==============================] - 8s 5ms/step - loss: 4.1491 - accuracy: 0.8151 - val_loss: 4.0933 - val_accuracy: 0.8348\n",
                        "Epoch 16/30\n",
                        "1719/1719 [==============================] - 8s 5ms/step - loss: 4.1208 - accuracy: 0.8176 - val_loss: 4.0646 - val_accuracy: 0.8364\n",
                        "Epoch 17/30\n",
                        "1719/1719 [==============================] - 8s 5ms/step - loss: 4.0914 - accuracy: 0.8186 - val_loss: 4.0334 - val_accuracy: 0.8384\n",
                        "Epoch 18/30\n",
                        "1719/1719 [==============================] - 8s 5ms/step - loss: 4.0618 - accuracy: 0.8206 - val_loss: 4.0079 - val_accuracy: 0.8388\n",
                        "Epoch 19/30\n",
                        "1719/1719 [==============================] - 8s 5ms/step - loss: 4.0362 - accuracy: 0.8211 - val_loss: 3.9795 - val_accuracy: 0.8416\n",
                        "Epoch 20/30\n",
                        "1719/1719 [==============================] - 8s 5ms/step - loss: 4.0035 - accuracy: 0.8245 - val_loss: 3.9520 - val_accuracy: 0.8422\n",
                        "Epoch 21/30\n",
                        "1719/1719 [==============================] - 8s 5ms/step - loss: 3.9797 - accuracy: 0.8227 - val_loss: 3.9248 - val_accuracy: 0.8426\n",
                        "Epoch 22/30\n",
                        "1719/1719 [==============================] - 8s 5ms/step - loss: 3.9511 - accuracy: 0.8251 - val_loss: 3.8983 - val_accuracy: 0.8436\n",
                        "Epoch 23/30\n",
                        "1719/1719 [==============================] - 8s 5ms/step - loss: 3.9218 - accuracy: 0.8268 - val_loss: 3.8715 - val_accuracy: 0.8456\n",
                        "Epoch 24/30\n",
                        "1719/1719 [==============================] - 9s 5ms/step - loss: 3.8976 - accuracy: 0.8286 - val_loss: 3.8471 - val_accuracy: 0.8444\n",
                        "Epoch 25/30\n",
                        "1719/1719 [==============================] - 8s 5ms/step - loss: 3.8700 - accuracy: 0.8296 - val_loss: 3.8202 - val_accuracy: 0.8462\n",
                        "Epoch 26/30\n",
                        "1719/1719 [==============================] - 8s 5ms/step - loss: 3.8444 - accuracy: 0.8309 - val_loss: 3.7952 - val_accuracy: 0.8470\n",
                        "Epoch 27/30\n",
                        "1719/1719 [==============================] - 8s 5ms/step - loss: 3.8189 - accuracy: 0.8319 - val_loss: 3.7697 - val_accuracy: 0.8466\n",
                        "Epoch 28/30\n",
                        "1719/1719 [==============================] - 8s 5ms/step - loss: 3.7950 - accuracy: 0.8316 - val_loss: 3.7453 - val_accuracy: 0.8458\n",
                        "Epoch 29/30\n",
                        "1719/1719 [==============================] - 8s 5ms/step - loss: 3.7717 - accuracy: 0.8316 - val_loss: 3.7212 - val_accuracy: 0.8468\n",
                        "Epoch 30/30\n",
                        "1719/1719 [==============================] - 8s 5ms/step - loss: 3.7425 - accuracy: 0.8333 - val_loss: 3.6965 - val_accuracy: 0.8474\n"
                    ]
                }
            ],
            "source": [
                "history = model.fit(X_train, y_train, epochs=30,\n",
                " validation_data=(X_valid, y_valid),callbacks=[earlystop,checkp])"
            ]
        },
        {
            "cell_type": "code",
            "execution_count": 12,
            "metadata": {},
            "outputs": [],
            "source": [
                "model.save(\"mymodel.h5\")"
            ]
        },
        {
            "cell_type": "code",
            "execution_count": 13,
            "metadata": {},
            "outputs": [
                {
                    "data": {
                        "image/png": "[encoded data removed]",
                        "text/plain": [
                            "<Figure size 576x360 with 1 Axes>"
                        ]
                    },
                    "metadata": {
                        "needs_background": "light"
                    },
                    "output_type": "display_data"
                }
            ],
            "source": [
                "import pandas as pd      \n",
                "import  matplotlib.pyplot as plt\n",
                "\n",
                "pd.DataFrame(history.history).plot(figsize=(8,5))\n",
                "plt.grid(True)\n",
                "plt.gca().set_ylim(0,1)\n",
                "plt.show()"
            ]
        },
        {
            "cell_type": "code",
            "execution_count": 14,
            "metadata": {},
            "outputs": [
                {
                    "name": "stdout",
                    "output_type": "stream",
                    "text": [
                        "313/313 [==============================] - 1s 2ms/step - loss: 68.9467 - accuracy: 0.6058\n"
                    ]
                },
                {
                    "data": {
                        "text/plain": [
                            "[68.94670104980469, 0.6057999730110168]"
                        ]
                    },
                    "execution_count": 14,
                    "metadata": {},
                    "output_type": "execute_result"
                }
            ],
            "source": [
                "model.evaluate(X_test,y_test)"
            ]
        },
        {
            "cell_type": "code",
            "execution_count": 26,
            "metadata": {},
            "outputs": [],
            "source": [
                "from sklearn.datasets import fetch_california_housing\n",
                "from sklearn.model_selection import train_test_split\n",
                "from sklearn.preprocessing import StandardScaler\n",
                "housing= fetch_california_housing()\n",
                "X_train_full, X_test, y_train_full, y_test = train_test_split(\n",
                "    housing.data, housing.target)\n",
                "X_train, X_valid, y_train, y_valid = train_test_split(\n",
                "    X_train_full, y_train_full)\n",
                "scaler = StandardScaler()\n",
                "X_train = scaler.fit_transform(X_train)\n",
                "X_valid = scaler.transform(X_valid)\n",
                "X_test = scaler.transform(X_test)\n"
            ]
        },
        {
            "cell_type": "code",
            "execution_count": 28,
            "metadata": {},
            "outputs": [
                {
                    "name": "stdout",
                    "output_type": "stream",
                    "text": [
                        "Epoch 1/20\n",
                        "363/363 [==============================] - 1s 2ms/step - loss: 0.7898 - val_loss: 0.5676\n",
                        "Epoch 2/20\n",
                        "363/363 [==============================] - 0s 1ms/step - loss: 0.6984 - val_loss: 0.5243\n",
                        "Epoch 3/20\n",
                        "363/363 [==============================] - 0s 1ms/step - loss: 0.4913 - val_loss: 0.4852\n",
                        "Epoch 4/20\n",
                        "363/363 [==============================] - 0s 1ms/step - loss: 0.4654 - val_loss: 0.4647\n",
                        "Epoch 5/20\n",
                        "363/363 [==============================] - 0s 1ms/step - loss: 0.4506 - val_loss: 0.4552\n",
                        "Epoch 6/20\n",
                        "363/363 [==============================] - 1s 1ms/step - loss: 0.4389 - val_loss: 0.4582\n",
                        "Epoch 7/20\n",
                        "363/363 [==============================] - 0s 1ms/step - loss: 0.4325 - val_loss: 0.4502\n",
                        "Epoch 8/20\n",
                        "363/363 [==============================] - 1s 1ms/step - loss: 0.4295 - val_loss: 0.4326\n",
                        "Epoch 9/20\n",
                        "363/363 [==============================] - 0s 1ms/step - loss: 0.4207 - val_loss: 0.4275\n",
                        "Epoch 10/20\n",
                        "363/363 [==============================] - 1s 1ms/step - loss: 0.4205 - val_loss: 0.4300\n",
                        "Epoch 11/20\n",
                        "363/363 [==============================] - 0s 1ms/step - loss: 0.4219 - val_loss: 0.4270\n",
                        "Epoch 12/20\n",
                        "363/363 [==============================] - 1s 1ms/step - loss: 0.4116 - val_loss: 0.4516\n",
                        "Epoch 13/20\n",
                        "363/363 [==============================] - 0s 1ms/step - loss: 0.4070 - val_loss: 0.4157\n",
                        "Epoch 14/20\n",
                        "363/363 [==============================] - 1s 1ms/step - loss: 0.4019 - val_loss: 0.4143\n",
                        "Epoch 15/20\n",
                        "363/363 [==============================] - 0s 1ms/step - loss: 0.3987 - val_loss: 0.4008\n",
                        "Epoch 16/20\n",
                        "363/363 [==============================] - 0s 1ms/step - loss: 0.3949 - val_loss: 0.4321\n",
                        "Epoch 17/20\n",
                        "363/363 [==============================] - 1s 1ms/step - loss: 0.3959 - val_loss: 0.4876\n",
                        "Epoch 18/20\n",
                        "363/363 [==============================] - 1s 1ms/step - loss: 0.3894 - val_loss: 0.4018\n",
                        "Epoch 19/20\n",
                        "363/363 [==============================] - 0s 1ms/step - loss: 0.3889 - val_loss: 0.4432\n",
                        "Epoch 20/20\n",
                        "363/363 [==============================] - 0s 1ms/step - loss: 0.3854 - val_loss: 0.4127\n",
                        "162/162 [==============================] - 0s 752us/step - loss: 0.3779\n"
                    ]
                }
            ],
            "source": [
                "model=keras.models.Sequential(\n",
                "    [keras.layers.Dense(30,activation=\"relu\",input_shape=X_train.shape[1:])\n",
                "    ,keras.layers.Dense(1)\n",
                "    ]\n",
                ")\n",
                "\n",
                "model.compile(loss=\"mean_squared_error\",optimizer=\"sgd\")\n",
                "history=model.fit(X_train,y_train,validation_data=(X_valid,y_valid),epochs=20)\n",
                "mse_test=model.evaluate(X_test,y_test)"
            ]
        },
        {
            "cell_type": "code",
            "execution_count": 29,
            "metadata": {},
            "outputs": [],
            "source": [
                "input_a=keras.layers.Input(shape=[5],name=\"wide_input\")\n",
                "input_b=keras.layers.Input(shape=[6],name=\"deep_input\")\n",
                "hidden1=keras.layers.Dense(30,activation=\"relu\")(input_b)\n",
                "hidden2=keras.layers.Dense(30,activation=\"relu\")(hidden1)\n",
                "concat=keras.layers.concatenate([input_a,hidden2])\n",
                "output=keras.layers.Dense(1,name=\"output\")(concat)\n",
                "model=keras.Model(inputs=[input_a,input_b],outputs=[output])"
            ]
        },
        {
            "cell_type": "code",
            "execution_count": 30,
            "metadata": {},
            "outputs": [
                {
                    "name": "stderr",
                    "output_type": "stream",
                    "text": [
                        "/home/ubuntu/.local/lib/python3.8/site-packages/keras/optimizer_v2/optimizer_v2.py:355: UserWarning: The `lr` argument is deprecated, use `learning_rate` instead.\n",
                        "  warnings.warn(\n"
                    ]
                },
                {
                    "name": "stdout",
                    "output_type": "stream",
                    "text": [
                        "Epoch 1/20\n",
                        "363/363 [==============================] - 1s 3ms/step - loss: 2.3496 - val_loss: 0.9528\n",
                        "Epoch 2/20\n",
                        "363/363 [==============================] - 1s 3ms/step - loss: 0.7722 - val_loss: 0.7248\n",
                        "Epoch 3/20\n",
                        "363/363 [==============================] - 1s 3ms/step - loss: 0.6693 - val_loss: 0.6666\n",
                        "Epoch 4/20\n",
                        "363/363 [==============================] - 1s 2ms/step - loss: 0.6260 - val_loss: 0.6305\n",
                        "Epoch 5/20\n",
                        "363/363 [==============================] - 1s 2ms/step - loss: 0.5970 - val_loss: 0.6044\n",
                        "Epoch 6/20\n",
                        "363/363 [==============================] - 1s 2ms/step - loss: 0.5753 - val_loss: 0.5833\n",
                        "Epoch 7/20\n",
                        "363/363 [==============================] - 1s 2ms/step - loss: 0.5581 - val_loss: 0.5702\n",
                        "Epoch 8/20\n",
                        "363/363 [==============================] - 1s 1ms/step - loss: 0.5442 - val_loss: 0.5565\n",
                        "Epoch 9/20\n",
                        "363/363 [==============================] - 1s 2ms/step - loss: 0.5341 - val_loss: 0.5496\n",
                        "Epoch 10/20\n",
                        "363/363 [==============================] - 1s 2ms/step - loss: 0.5254 - val_loss: 0.5400\n",
                        "Epoch 11/20\n",
                        "363/363 [==============================] - 1s 2ms/step - loss: 0.5184 - val_loss: 0.5337\n",
                        "Epoch 12/20\n",
                        "363/363 [==============================] - 1s 2ms/step - loss: 0.5122 - val_loss: 0.5306\n",
                        "Epoch 13/20\n",
                        "363/363 [==============================] - 1s 2ms/step - loss: 0.5070 - val_loss: 0.5255\n",
                        "Epoch 14/20\n",
                        "363/363 [==============================] - 1s 2ms/step - loss: 0.5029 - val_loss: 0.5242\n",
                        "Epoch 15/20\n",
                        "363/363 [==============================] - 1s 2ms/step - loss: 0.4995 - val_loss: 0.5184\n",
                        "Epoch 16/20\n",
                        "363/363 [==============================] - 1s 2ms/step - loss: 0.4961 - val_loss: 0.5124\n",
                        "Epoch 17/20\n",
                        "363/363 [==============================] - 1s 2ms/step - loss: 0.4932 - val_loss: 0.5128\n",
                        "Epoch 18/20\n",
                        "363/363 [==============================] - 1s 2ms/step - loss: 0.4905 - val_loss: 0.5068\n",
                        "Epoch 19/20\n",
                        "363/363 [==============================] - 1s 2ms/step - loss: 0.4881 - val_loss: 0.5054\n",
                        "Epoch 20/20\n",
                        "363/363 [==============================] - 1s 2ms/step - loss: 0.4859 - val_loss: 0.5023\n",
                        "162/162 [==============================] - 0s 801us/step - loss: 0.4732\n"
                    ]
                }
            ],
            "source": [
                "model.compile(loss=\"mse\", optimizer=keras.optimizers.SGD(lr=1e-3))\n",
                "X_train_A, X_train_B = X_train[:, :5], X_train[:, 2:]\n",
                "X_valid_A, X_valid_B = X_valid[:, :5], X_valid[:, 2:]\n",
                "X_test_A, X_test_B = X_test[:, :5], X_test[:, 2:]\n",
                "X_new_A, X_new_B = X_test_A[:3], X_test_B[:3]\n",
                "history = model.fit((X_train_A, X_train_B), y_train, epochs=20,\n",
                "                    validation_data=((X_valid_A, X_valid_B), y_valid))\n",
                "mse_test = model.evaluate((X_test_A, X_test_B), y_test)\n",
                "y_pred = model.predict((X_new_A, X_new_B))"
            ]
        },
        {
            "cell_type": "code",
            "execution_count": null,
            "metadata": {},
            "outputs": [],
            "source": []
        }
    ],
    "metadata": {
        "interpreter": {
            "hash": "caf1c2fcf97217de91eafa76b907d50f9ea378f5ffbee7f571142d119bb6a771"
        },
        "kernelspec": {
            "display_name": "Python 3.8.12 64-bit ('base': conda)",
            "name": "python3"
        },
        "language_info": {
            "codemirror_mode": {
                "name": "ipython",
                "version": 3
            },
            "file_extension": ".py",
            "mimetype": "text/x-python",
            "name": "python",
            "nbconvert_exporter": "python",
            "pygments_lexer": "ipython3",
            "version": "3.8.12"
        },
        "orig_nbformat": 4
    },
    "nbformat": 4,
    "nbformat_minor": 2
}
